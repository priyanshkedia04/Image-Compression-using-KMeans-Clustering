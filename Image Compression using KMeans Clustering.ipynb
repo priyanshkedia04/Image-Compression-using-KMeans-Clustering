{
 "cells": [
  {
   "cell_type": "markdown",
   "metadata": {},
   "source": [
    "# Importing Libraries"
   ]
  },
  {
   "cell_type": "code",
   "execution_count": 1,
   "metadata": {},
   "outputs": [],
   "source": [
    "import numpy as np\n",
    "import matplotlib.pyplot as plt\n",
    "import matplotlib.image as image\n",
    "from skimage import io\n",
    "import os\n",
    "%matplotlib inline\n",
    "plt.style.use('ggplot')\n",
    "from ipywidgets import interact,fixed, interact_manual, IntSlider\n",
    "import ipywidgets as widgets"
   ]
  },
  {
   "cell_type": "markdown",
   "metadata": {},
   "source": [
    "# Mini Batch KMeans"
   ]
  },
  {
   "cell_type": "markdown",
   "metadata": {},
   "source": [
    "Images to be compressed should be in a Folder named Images"
   ]
  },
  {
   "cell_type": "code",
   "execution_count": 2,
   "metadata": {},
   "outputs": [],
   "source": [
    "from sklearn.cluster import MiniBatchKMeans\n",
    "def image_compressor(image,colors,save_image=False):\n",
    "    im_read=io.imread('images/'+image)\n",
    "    img = im_read\n",
    "    img_data = (img/255.0).reshape(-1, 3)\n",
    "    kmeans = MiniBatchKMeans(colors).fit(img_data)\n",
    "    k_colors = kmeans.cluster_centers_[kmeans.predict(img_data)]\n",
    "    compressed_image = k_colors.reshape(im_read.shape[0],im_read.shape[1],3)\n",
    "    if save_image:\n",
    "        io.imsave('images/{} Compressed.jpg'.format(image),compressed_image)\n",
    "        print(\"Compressed Image is Saved\")\n",
    "    show_image(im_read, compressed_image, colors)\n",
    "def show_image(image,compressed_image,colors):\n",
    "    fig=plt.figure(figsize=(15,15))\n",
    "    fig.add_subplot(1,2,1)\n",
    "    plt.xticks([])\n",
    "    plt.yticks([])\n",
    "    plt.title(\"Orginal Image\")\n",
    "    plt.imshow(image)\n",
    "    fig.add_subplot(1,2,2)\n",
    "    plt.xticks([])\n",
    "    plt.yticks([])\n",
    "    plt.title(\"Compressed Image with colors : {}\".format(colors))\n",
    "    plt.imshow(compressed_image)\n",
    "    "
   ]
  },
  {
   "cell_type": "code",
   "execution_count": 3,
   "metadata": {},
   "outputs": [
    {
     "data": {
      "application/vnd.jupyter.widget-view+json": {
       "model_id": "ae14f0701eec4a78b12842ff29ef84ce",
       "version_major": 2,
       "version_minor": 0
      },
      "text/plain": [
       "interactive(children=(Dropdown(description='Select Image', options=('1.jpg', '2.jpg', '3.jpg', '4.jpg', '5.jpg…"
      ]
     },
     "metadata": {},
     "output_type": "display_data"
    }
   ],
   "source": [
    "a=interact_manual(image_compressor,colors=IntSlider(value=16, description='Colors', max=256, min=16,step=2,layout=dict(width='100%')),\n",
    "                  image=widgets.Dropdown(options=[item for item in os.listdir('images')],\n",
    "                                         description='Select Image'),\n",
    "                 save_image=widgets.Checkbox(\n",
    "                 value=False,\n",
    "                 description='Tick to Save the Image'))"
   ]
  },
  {
   "cell_type": "code",
   "execution_count": null,
   "metadata": {},
   "outputs": [],
   "source": []
  },
  {
   "cell_type": "code",
   "execution_count": null,
   "metadata": {},
   "outputs": [],
   "source": []
  },
  {
   "cell_type": "code",
   "execution_count": null,
   "metadata": {},
   "outputs": [],
   "source": []
  },
  {
   "cell_type": "code",
   "execution_count": null,
   "metadata": {},
   "outputs": [],
   "source": []
  }
 ],
 "metadata": {
  "kernelspec": {
   "display_name": "tensorflow",
   "language": "python",
   "name": "tensorflow"
  },
  "language_info": {
   "codemirror_mode": {
    "name": "ipython",
    "version": 3
   },
   "file_extension": ".py",
   "mimetype": "text/x-python",
   "name": "python",
   "nbconvert_exporter": "python",
   "pygments_lexer": "ipython3",
   "version": "3.7.7"
  }
 },
 "nbformat": 4,
 "nbformat_minor": 4
}
